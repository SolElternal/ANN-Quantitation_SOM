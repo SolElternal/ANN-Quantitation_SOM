{
 "cells": [
  {
   "cell_type": "code",
   "id": "initial_id",
   "metadata": {
    "collapsed": true,
    "ExecuteTime": {
     "end_time": "2024-08-23T17:57:13.293034Z",
     "start_time": "2024-08-23T17:56:04.187513Z"
    }
   },
   "source": [
    "import cv2\n",
    "from numpy import random\n",
    "import numpy as np\n",
    "\n",
    "# Mean Square Error (MSE) calculation\n",
    "def MSE(image_a, image_b):\n",
    "    w, h, c = image_a.shape\n",
    "    mse = np.sum((image_a - image_b) ** 2) / (w * h * c)\n",
    "    return mse\n",
    "\n",
    "# Self-Organizing Map (SOM) for Colour Palette Generation\n",
    "def ColourPaletteGeneration(image_in, epochs=10, initial_learn_rate=0.1):\n",
    "    w, h, c = image_in.shape\n",
    "    codebook = random.rand(8, 8, 3) * 255  # Initialize codebook with random values scaled to [0, 255]\n",
    "\n",
    "    learn_rate = initial_learn_rate\n",
    "    for epoch in range(epochs):\n",
    "        for i in range(w * h):\n",
    "            # Randomly select a pixel\n",
    "            randomPixelRow = random.randint(0, h)\n",
    "            randomPixelCol = random.randint(0, w)\n",
    "            currentPixel = image_in[randomPixelRow, randomPixelCol, :]\n",
    "\n",
    "            # Find the winner codeword\n",
    "            minDist = np.inf\n",
    "            minIndex_r, minIndex_c = 0, 0\n",
    "            for r in range(8):\n",
    "                for c in range(8):\n",
    "                    dist = np.linalg.norm(currentPixel - codebook[r, c, :])\n",
    "                    if dist < minDist:\n",
    "                        minDist = dist\n",
    "                        minIndex_r, minIndex_c = r, c\n",
    "\n",
    "            # Update the winner's weight\n",
    "            codebook[minIndex_r, minIndex_c, :] += learn_rate * (currentPixel - codebook[minIndex_r, minIndex_c, :])\n",
    "\n",
    "        # Decay learning rate\n",
    "        learn_rate *= 0.99  # Reduce learning rate over time\n",
    "\n",
    "    return codebook\n",
    "\n",
    "# Map the image to the quantized palette\n",
    "def PixelMapping(image_in, codebook):\n",
    "    w, h, c = image_in.shape\n",
    "    image_out = np.zeros((w, h, c), dtype=np.uint8)\n",
    "\n",
    "    for r in range(h):\n",
    "        for c in range(w):\n",
    "            currentPixel = image_in[r, c, :]\n",
    "\n",
    "            # Find the winner codeword\n",
    "            minDist = np.inf\n",
    "            minIndex_r, minIndex_c = 0, 0\n",
    "            for i in range(8):\n",
    "                for j in range(8):\n",
    "                    dist = np.linalg.norm(currentPixel - codebook[i, j, :])\n",
    "                    if dist < minDist:\n",
    "                        minDist = dist\n",
    "                        minIndex_r, minIndex_c = i, j\n",
    "\n",
    "            image_out[r, c, :] = codebook[minIndex_r, minIndex_c, :]\n",
    "\n",
    "    return image_out\n",
    "\n",
    "# Example usage\n",
    "if __name__ == \"__main__\":\n",
    "    # Load the image\n",
    "    image_a = cv2.imread('baboon.jpeg')\n",
    "\n",
    "    # Generate the color palette using SOM\n",
    "    palette = ColourPaletteGeneration(image_a, epochs=10, initial_learn_rate=0.1)\n",
    "\n",
    "    # Quantize the image\n",
    "    quantized_image = PixelMapping(image_a, palette)\n",
    "\n",
    "    # Calculate MSE between the original and quantized images\n",
    "    mse_value = MSE(image_a, quantized_image)\n",
    "    print(f'MSE: {mse_value}')\n",
    "\n",
    "    # Save the quantized image\n",
    "    cv2.imwrite('Quantized_Baboon.jpeg', quantized_image)\n"
   ],
   "outputs": [
    {
     "name": "stdout",
     "output_type": "stream",
     "text": [
      "MSE: 59.39032098765432\n"
     ]
    }
   ],
   "execution_count": 4
  },
  {
   "metadata": {},
   "cell_type": "code",
   "outputs": [],
   "execution_count": null,
   "source": "",
   "id": "f3145e3bf038259a"
  }
 ],
 "metadata": {
  "kernelspec": {
   "display_name": "Python 3",
   "language": "python",
   "name": "python3"
  },
  "language_info": {
   "codemirror_mode": {
    "name": "ipython",
    "version": 2
   },
   "file_extension": ".py",
   "mimetype": "text/x-python",
   "name": "python",
   "nbconvert_exporter": "python",
   "pygments_lexer": "ipython2",
   "version": "2.7.6"
  }
 },
 "nbformat": 4,
 "nbformat_minor": 5
}
